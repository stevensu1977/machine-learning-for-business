{
 "cells": [
  {
   "cell_type": "code",
   "execution_count": 1,
   "metadata": {},
   "outputs": [],
   "source": [
    "%matplotlib inline\n",
    "\n",
    "import pandas as pd\n",
    "import matplotlib.pyplot as plt"
   ]
  },
  {
   "cell_type": "markdown",
   "metadata": {},
   "source": [
    "## Time series visualisation"
   ]
  },
  {
   "cell_type": "code",
   "execution_count": 2,
   "metadata": {
    "scrolled": true
   },
   "outputs": [
    {
     "data": {
      "text/html": [
       "<div>\n",
       "<style scoped>\n",
       "    .dataframe tbody tr th:only-of-type {\n",
       "        vertical-align: middle;\n",
       "    }\n",
       "\n",
       "    .dataframe tbody tr th {\n",
       "        vertical-align: top;\n",
       "    }\n",
       "\n",
       "    .dataframe thead th {\n",
       "        text-align: right;\n",
       "    }\n",
       "</style>\n",
       "<table border=\"1\" class=\"dataframe\">\n",
       "  <thead>\n",
       "    <tr style=\"text-align: right;\">\n",
       "      <th></th>\n",
       "      <th>Me</th>\n",
       "    </tr>\n",
       "    <tr>\n",
       "      <th>month</th>\n",
       "      <th></th>\n",
       "    </tr>\n",
       "  </thead>\n",
       "  <tbody>\n",
       "    <tr>\n",
       "      <th>2018-01-01</th>\n",
       "      <td>75</td>\n",
       "    </tr>\n",
       "    <tr>\n",
       "      <th>2018-02-01</th>\n",
       "      <td>73</td>\n",
       "    </tr>\n",
       "    <tr>\n",
       "      <th>2018-03-01</th>\n",
       "      <td>72</td>\n",
       "    </tr>\n",
       "    <tr>\n",
       "      <th>2018-04-01</th>\n",
       "      <td>71</td>\n",
       "    </tr>\n",
       "    <tr>\n",
       "      <th>2018-05-01</th>\n",
       "      <td>72</td>\n",
       "    </tr>\n",
       "  </tbody>\n",
       "</table>\n",
       "</div>"
      ],
      "text/plain": [
       "            Me\n",
       "month         \n",
       "2018-01-01  75\n",
       "2018-02-01  73\n",
       "2018-03-01  72\n",
       "2018-04-01  71\n",
       "2018-05-01  72"
      ]
     },
     "execution_count": 2,
     "metadata": {},
     "output_type": "execute_result"
    }
   ],
   "source": [
    "my_weight = [\n",
    "    {'month': '2018-01-01', 'Me': 75},\n",
    "    {'month': '2018-02-01', 'Me': 73},\n",
    "    {'month': '2018-03-01', 'Me': 72},\n",
    "    {'month': '2018-04-01', 'Me': 71},\n",
    "    {'month': '2018-05-01', 'Me': 72},\n",
    "    {'month': '2018-06-01', 'Me': 71},\n",
    "    {'month': '2018-07-01', 'Me': 70},\n",
    "    {'month': '2018-08-01', 'Me': 73},\n",
    "    {'month': '2018-09-01', 'Me': 70},\n",
    "    {'month': '2018-10-01', 'Me': 69},\n",
    "    {'month': '2018-11-01', 'Me': 72},\n",
    "    {'month': '2018-12-01', 'Me': 74}\n",
    "]\n",
    "df = pd.DataFrame(my_weight).set_index('month')\n",
    "df.index = pd.to_datetime(df.index)\n",
    "df.head()"
   ]
  },
  {
   "cell_type": "code",
   "execution_count": 3,
   "metadata": {
    "scrolled": true
   },
   "outputs": [
    {
     "data": {
      "text/plain": [
       "<AxesSubplot:xlabel='month'>"
      ]
     },
     "execution_count": 3,
     "metadata": {},
     "output_type": "execute_result"
    },
    {
     "data": {
      "image/png": "[encoded data removed]",
      "text/plain": [
       "<Figure size 432x288 with 1 Axes>"
      ]
     },
     "metadata": {
      "needs_background": "light"
     },
     "output_type": "display_data"
    }
   ],
   "source": [
    "df.plot()"
   ]
  },
  {
   "cell_type": "code",
   "execution_count": 4,
   "metadata": {},
   "outputs": [
    {
     "data": {
      "text/html": [
       "<div>\n",
       "<style scoped>\n",
       "    .dataframe tbody tr th:only-of-type {\n",
       "        vertical-align: middle;\n",
       "    }\n",
       "\n",
       "    .dataframe tbody tr th {\n",
       "        vertical-align: top;\n",
       "    }\n",
       "\n",
       "    .dataframe thead th {\n",
       "        text-align: right;\n",
       "    }\n",
       "</style>\n",
       "<table border=\"1\" class=\"dataframe\">\n",
       "  <thead>\n",
       "    <tr style=\"text-align: right;\">\n",
       "      <th></th>\n",
       "      <th>Me</th>\n",
       "      <th>spouse</th>\n",
       "      <th>ch_1</th>\n",
       "      <th>ch_2</th>\n",
       "    </tr>\n",
       "    <tr>\n",
       "      <th>month</th>\n",
       "      <th></th>\n",
       "      <th></th>\n",
       "      <th></th>\n",
       "      <th></th>\n",
       "    </tr>\n",
       "  </thead>\n",
       "  <tbody>\n",
       "    <tr>\n",
       "      <th>2018-01-01</th>\n",
       "      <td>75</td>\n",
       "      <td>67</td>\n",
       "      <td>52</td>\n",
       "      <td>38</td>\n",
       "    </tr>\n",
       "    <tr>\n",
       "      <th>2018-02-01</th>\n",
       "      <td>73</td>\n",
       "      <td>68</td>\n",
       "      <td>52</td>\n",
       "      <td>39</td>\n",
       "    </tr>\n",
       "    <tr>\n",
       "      <th>2018-03-01</th>\n",
       "      <td>72</td>\n",
       "      <td>65</td>\n",
       "      <td>53</td>\n",
       "      <td>40</td>\n",
       "    </tr>\n",
       "    <tr>\n",
       "      <th>2018-04-01</th>\n",
       "      <td>71</td>\n",
       "      <td>63</td>\n",
       "      <td>53</td>\n",
       "      <td>41</td>\n",
       "    </tr>\n",
       "    <tr>\n",
       "      <th>2018-05-01</th>\n",
       "      <td>72</td>\n",
       "      <td>64</td>\n",
       "      <td>54</td>\n",
       "      <td>42</td>\n",
       "    </tr>\n",
       "  </tbody>\n",
       "</table>\n",
       "</div>"
      ],
      "text/plain": [
       "            Me  spouse  ch_1  ch_2\n",
       "month                             \n",
       "2018-01-01  75      67    52    38\n",
       "2018-02-01  73      68    52    39\n",
       "2018-03-01  72      65    53    40\n",
       "2018-04-01  71      63    53    41\n",
       "2018-05-01  72      64    54    42"
      ]
     },
     "execution_count": 4,
     "metadata": {},
     "output_type": "execute_result"
    }
   ],
   "source": [
    "family_weight = [\n",
    "    {'month': '2018-01-01', 'Me': 75, 'spouse': 67, 'ch_1': 52, 'ch_2': 38},\n",
    "    {'month': '2018-02-01', 'Me': 73, 'spouse': 68, 'ch_1': 52, 'ch_2': 39},\n",
    "    {'month': '2018-03-01', 'Me': 72, 'spouse': 65, 'ch_1': 53, 'ch_2': 40},\n",
    "    {'month': '2018-04-01', 'Me': 71, 'spouse': 63, 'ch_1': 53, 'ch_2': 41},\n",
    "    {'month': '2018-05-01', 'Me': 72, 'spouse': 64, 'ch_1': 54, 'ch_2': 42},\n",
    "    {'month': '2018-06-01', 'Me': 71, 'spouse': 65, 'ch_1': 54, 'ch_2': 42},\n",
    "    {'month': '2018-07-01', 'Me': 70, 'spouse': 65, 'ch_1': 55, 'ch_2': 42},\n",
    "    {'month': '2018-08-01', 'Me': 73, 'spouse': 66, 'ch_1': 55, 'ch_2': 43},\n",
    "    {'month': '2018-09-01', 'Me': 70, 'spouse': 65, 'ch_1': 56, 'ch_2': 44},\n",
    "    {'month': '2018-10-01', 'Me': 69, 'spouse': 66, 'ch_1': 57, 'ch_2': 45},\n",
    "    {'month': '2018-11-01', 'Me': 72, 'spouse': 66, 'ch_1': 57, 'ch_2': 46},\n",
    "    {'month': '2018-12-01', 'Me': 74, 'spouse': 66, 'ch_1': 57, 'ch_2': 46}\n",
    "]\n",
    "df2 = pd.DataFrame(family_weight).set_index('month')\n",
    "df2.index = pd.to_datetime(df2.index)\n",
    "df2.head()"
   ]
  },
  {
   "cell_type": "markdown",
   "metadata": {},
   "source": [
    "## Looping"
   ]
  },
  {
   "cell_type": "code",
   "execution_count": 5,
   "metadata": {},
   "outputs": [
    {
     "name": "stdout",
     "output_type": "stream",
     "text": [
      "A\n",
      "B\n",
      "C\n"
     ]
    }
   ],
   "source": [
    "my_list = ['A', 'B', 'C']\n",
    "for item in my_list:\n",
    "    print(item)"
   ]
  },
  {
   "cell_type": "code",
   "execution_count": 6,
   "metadata": {},
   "outputs": [
    {
     "name": "stdout",
     "output_type": "stream",
     "text": [
      "0. A\n",
      "1. B\n",
      "2. C\n"
     ]
    }
   ],
   "source": [
    "my_list = ['A', 'B', 'C']\n",
    "for i, item in enumerate(my_list):\n",
    "    print(f'{i}. {item}')"
   ]
  },
  {
   "cell_type": "markdown",
   "metadata": {},
   "source": [
    "## Display multiple charts"
   ]
  },
  {
   "cell_type": "code",
   "execution_count": null,
   "metadata": {},
   "outputs": [
    {
     "name": "stdout",
     "output_type": "stream",
     "text": [
      "Me\n",
      "spouse\n",
      "ch_1\n",
      "ch_2\n"
     ]
    }
   ],
   "source": [
    "start_date = \"2018-01-01\"\n",
    "end_date = \"2018-12-31\"\n",
    "fig, axs = plt.subplots(2, 2, figsize=(12, 5), sharex=True)\n",
    "axx = axs.ravel()\n",
    "for i, column in enumerate(df2.columns):\n",
    "    print(df2.columns[i])\n",
    "    df2[column].loc[start_date:end_date].plot(ax=axx[i])\n",
    "    axx[i].set_xlabel(\"month\")    \n",
    "    axx[i].set_ylabel(\"xxx\")"
   ]
  },
  {
   "cell_type": "code",
   "execution_count": null,
   "metadata": {},
   "outputs": [],
   "source": []
  }
 ],
 "metadata": {
  "kernelspec": {
   "display_name": "conda_python3",
   "language": "python",
   "name": "conda_python3"
  },
  "language_info": {
   "codemirror_mode": {
    "name": "ipython",
    "version": 3
   },
   "file_extension": ".py",
   "mimetype": "text/x-python",
   "name": "python",
   "nbconvert_exporter": "python",
   "pygments_lexer": "ipython3",
   "version": "3.6.13"
  }
 },
 "nbformat": 4,
 "nbformat_minor": 2
}
